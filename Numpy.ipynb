{
 "cells": [
  {
   "cell_type": "code",
   "execution_count": 9,
   "metadata": {},
   "outputs": [
    {
     "ename": "NameError",
     "evalue": "name 'x' is not defined",
     "output_type": "error",
     "traceback": [
      "\u001b[1;31m---------------------------------------------------------------------------\u001b[0m",
      "\u001b[1;31mNameError\u001b[0m                                 Traceback (most recent call last)",
      "Cell \u001b[1;32mIn[9], line 12\u001b[0m\n\u001b[0;32m     10\u001b[0m     x \u001b[38;5;241m=\u001b[39m [x0]\n\u001b[0;32m     11\u001b[0m \u001b[38;5;28;01mfor\u001b[39;00m it \u001b[38;5;129;01min\u001b[39;00m \u001b[38;5;28mrange\u001b[39m(\u001b[38;5;241m100\u001b[39m):\n\u001b[1;32m---> 12\u001b[0m     x_new \u001b[38;5;241m=\u001b[39m x[\u001b[38;5;241m-\u001b[39m\u001b[38;5;241m1\u001b[39m] \u001b[38;5;241m-\u001b[39m eta\u001b[38;5;241m*\u001b[39mgrad(x[\u001b[38;5;241m-\u001b[39m\u001b[38;5;241m1\u001b[39m]) \u001b[38;5;66;03m#x[-1] la gia tri cuoi cung trong chuoi\u001b[39;00m\n\u001b[0;32m     13\u001b[0m     \u001b[38;5;28;01mif\u001b[39;00m \u001b[38;5;28mabs\u001b[39m(grad(x_new)) \u001b[38;5;241m<\u001b[39m \u001b[38;5;241m1e-3\u001b[39m:\n\u001b[0;32m     14\u001b[0m         \u001b[38;5;28;01mbreak\u001b[39;00m\n",
      "\u001b[1;31mNameError\u001b[0m: name 'x' is not defined"
     ]
    }
   ],
   "source": [
    "import math\n",
    "import numpy as np\n",
    "import matplotlib.pyplot as plt\n",
    "\n",
    "def grad(x):\n",
    "    return 6*x + 2 + 4*np.cos(x)\n",
    "def cost(x):\n",
    "    return 3*x**2 + 2*x + 4*np.sin(x)\n",
    "def myGD1(eta,x0):\n",
    "    x = [x0]\n",
    "for it in range(100):\n",
    "    x_new = x[-1] - eta*grad(x[-1]) #x[-1] la gia tri cuoi cung trong chuoi\n",
    "    if abs(grad(x_new)) < 1e-3:\n",
    "        break\n",
    "    x.append(x_new)\n",
    "return (x, it)\n",
    "\n",
    "(x1, it1) = myGD1(.1, -5) #x0 = -5\n",
    "(x2, it2) = myGD1(.1, 5) #x0 = 5\n",
    "print('x1 = %f, cost = %f, after %d'%(x1[-1], cost(x1[-1]), it1))\n",
    "print('x2 = %f, cost = %f, after %d'%(x2[-1], cost(x2[-1]), it2))\n"
   ]
  },
  {
   "cell_type": "code",
   "execution_count": null,
   "metadata": {},
   "outputs": [],
   "source": []
  },
  {
   "cell_type": "code",
   "execution_count": null,
   "metadata": {},
   "outputs": [],
   "source": [
    "x = [12, 32, 4, 10, 36, 5]\n",
    "y = [5, 7, 9, 10, 11, 12]"
   ]
  }
 ],
 "metadata": {
  "kernelspec": {
   "display_name": "base",
   "language": "python",
   "name": "python3"
  },
  "language_info": {
   "codemirror_mode": {
    "name": "ipython",
    "version": 3
   },
   "file_extension": ".py",
   "mimetype": "text/x-python",
   "name": "python",
   "nbconvert_exporter": "python",
   "pygments_lexer": "ipython3",
   "version": "3.12.4"
  }
 },
 "nbformat": 4,
 "nbformat_minor": 2
}
